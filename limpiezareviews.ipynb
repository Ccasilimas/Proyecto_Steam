{
 "cells": [
  {
   "cell_type": "code",
   "execution_count": 1,
   "metadata": {},
   "outputs": [],
   "source": [
    "import pandas as pd\n",
    "import ast  \n",
    "import numpy as np\n",
    "import re\n",
    "import nltk\n",
    "import gzip\n",
    "from sqlalchemy import create_engine"
   ]
  },
  {
   "cell_type": "code",
   "execution_count": null,
   "metadata": {},
   "outputs": [],
   "source": [
    "# Abrir y leer el archivo .json.gz\n",
    "with gzip.open('/Data/user_reviews.json.gz', 'rt', encoding='utf-8') as file:\n",
    "    data = []\n",
    "    for line in file:\n",
    "        data.append(ast.literal_eval(line.strip()))  # Convertir de string a diccionario\n",
    "\n"
   ]
  },
  {
   "cell_type": "code",
   "execution_count": 3,
   "metadata": {},
   "outputs": [
    {
     "name": "stdout",
     "output_type": "stream",
     "text": [
      "                                  funny                     posted  \\\n",
      "0                                         Posted November 5, 2011.   \n",
      "1                                            Posted July 15, 2011.   \n",
      "2                                           Posted April 21, 2011.   \n",
      "3                                            Posted June 24, 2014.   \n",
      "4                                        Posted September 8, 2013.   \n",
      "...                                 ...                        ...   \n",
      "59300                                              Posted July 10.   \n",
      "59301                                               Posted July 8.   \n",
      "59302  1 person found this review funny             Posted July 3.   \n",
      "59303                                              Posted July 20.   \n",
      "59304                                               Posted July 2.   \n",
      "\n",
      "      last_edited item_id                                          helpful  \\\n",
      "0                    1250                                   No ratings yet   \n",
      "1                   22200                                   No ratings yet   \n",
      "2                   43110                                   No ratings yet   \n",
      "3                  251610  15 of 20 people (75%) found this review helpful   \n",
      "4                  227300     0 of 1 people (0%) found this review helpful   \n",
      "...           ...     ...                                              ...   \n",
      "59300                  70                                   No ratings yet   \n",
      "59301              362890                                   No ratings yet   \n",
      "59302              273110    1 of 2 people (50%) found this review helpful   \n",
      "59303                 730                                   No ratings yet   \n",
      "59304                 440                                   No ratings yet   \n",
      "\n",
      "       recommend                                             review  \\\n",
      "0           True  Simple yet with great replayability. In my opi...   \n",
      "1           True               It's unique and worth a playthrough.   \n",
      "2           True  Great atmosphere. The gunplay can be a bit chu...   \n",
      "3           True  I know what you think when you see this title ...   \n",
      "4           True  For a simple (it's actually not all that simpl...   \n",
      "...          ...                                                ...   \n",
      "59300       True  a must have classic from steam definitely wort...   \n",
      "59301       True  this game is a perfect remake of the original ...   \n",
      "59302       True  had so much fun plaing this and collecting res...   \n",
      "59303       True                                                 :D   \n",
      "59304       True                                     so much fun :D   \n",
      "\n",
      "                 user_id  \n",
      "0      76561197970982479  \n",
      "1      76561197970982479  \n",
      "2      76561197970982479  \n",
      "3                js41637  \n",
      "4                js41637  \n",
      "...                  ...  \n",
      "59300  76561198312638244  \n",
      "59301  76561198312638244  \n",
      "59302        LydiaMorley  \n",
      "59303        LydiaMorley  \n",
      "59304        LydiaMorley  \n",
      "\n",
      "[59305 rows x 8 columns]\n"
     ]
    }
   ],
   "source": [
    "# Eliminar la columna 'user_url' y expandir los datos de 'reviews'\n",
    "processed_data = []\n",
    "for entry in data:\n",
    "    user_id = entry['user_id']\n",
    "    for review in entry['reviews']:\n",
    "        review['user_id'] = user_id  # Agregar user_id a cada review\n",
    "        processed_data.append(review)\n",
    "\n",
    "# Crear un DataFrame de pandas\n",
    "df = pd.DataFrame(processed_data)\n",
    "\n",
    "print (df)"
   ]
  },
  {
   "cell_type": "code",
   "execution_count": 4,
   "metadata": {},
   "outputs": [
    {
     "name": "stdout",
     "output_type": "stream",
     "text": [
      "0         November 5, 2011.\n",
      "1            July 15, 2011.\n",
      "2           April 21, 2011.\n",
      "3            June 24, 2014.\n",
      "4        September 8, 2013.\n",
      "                ...        \n",
      "59300              July 10.\n",
      "59301               July 8.\n",
      "59302               July 3.\n",
      "59303              July 20.\n",
      "59304               July 2.\n",
      "Name: posted, Length: 59305, dtype: object\n"
     ]
    }
   ],
   "source": [
    "\n",
    "# Eliminar la palabra 'posted' al inicio y luego los espacios o comillas simples al inicio y final\n",
    "df['posted'] = df['posted'].str.replace('Posted', '', regex=True).str.strip(\" '\")\n",
    "\n",
    "# Imprimir el DataFrame para verificar los cambios\n",
    "print(df['posted'])"
   ]
  },
  {
   "cell_type": "code",
   "execution_count": 5,
   "metadata": {},
   "outputs": [
    {
     "name": "stdout",
     "output_type": "stream",
     "text": [
      "0                                        \n",
      "1                                        \n",
      "2                                        \n",
      "3                                        \n",
      "4                                        \n",
      "                       ...               \n",
      "59300                                    \n",
      "59301                                    \n",
      "59302    1 person found this review funny\n",
      "59303                                    \n",
      "59304                                    \n",
      "Name: funny, Length: 59305, dtype: object\n"
     ]
    }
   ],
   "source": [
    "\n",
    "# Eliminar la frase 'people found this review funny' y luego los espacios en blanco\n",
    "df['funny'] = df['funny'].str.replace('people found this review funny', '', regex=False).str.strip()\n",
    "\n",
    "# Imprimir el DataFrame para verificar los cambios\n",
    "print(df['funny'])"
   ]
  },
  {
   "cell_type": "code",
   "execution_count": 6,
   "metadata": {},
   "outputs": [
    {
     "name": "stderr",
     "output_type": "stream",
     "text": [
      "[nltk_data] Downloading package vader_lexicon to\n",
      "[nltk_data]     C:\\Users\\kcasi\\AppData\\Roaming\\nltk_data...\n",
      "[nltk_data]   Package vader_lexicon is already up-to-date!\n"
     ]
    },
    {
     "name": "stdout",
     "output_type": "stream",
     "text": [
      "  funny              posted last_edited item_id  \\\n",
      "0         November 5, 2011.                1250   \n",
      "1            July 15, 2011.               22200   \n",
      "2           April 21, 2011.               43110   \n",
      "3            June 24, 2014.              251610   \n",
      "4        September 8, 2013.              227300   \n",
      "\n",
      "                                           helpful  recommend  \\\n",
      "0                                   No ratings yet       True   \n",
      "1                                   No ratings yet       True   \n",
      "2                                   No ratings yet       True   \n",
      "3  15 of 20 people (75%) found this review helpful       True   \n",
      "4     0 of 1 people (0%) found this review helpful       True   \n",
      "\n",
      "             user_id  sentiment_analysis  \n",
      "0  76561197970982479                   2  \n",
      "1  76561197970982479                   2  \n",
      "2  76561197970982479                   2  \n",
      "3            js41637                   2  \n",
      "4            js41637                   2  \n"
     ]
    }
   ],
   "source": [
    "from nltk.sentiment import SentimentIntensityAnalyzer\n",
    "\n",
    "# Asegúrate de descargar los recursos requeridos de NLTK solo una vez\n",
    "nltk.download('vader_lexicon')\n",
    "\n",
    "# Inicializa el analizador de sentimientos\n",
    "sia = SentimentIntensityAnalyzer()\n",
    "\n",
    "def get_sentiment(review):\n",
    "    # Convertir cualquier valor a cadena\n",
    "    review = str(review)\n",
    "    \n",
    "    if pd.isnull(review) or review.strip() == \"\":\n",
    "        return 1  # Valor neutral si no hay reseña\n",
    "    sentiment_score = sia.polarity_scores(review)['compound']\n",
    "    if sentiment_score < -0.05:\n",
    "        return 0  # Malo\n",
    "    elif sentiment_score > 0.05:\n",
    "        return 2  # Positivo\n",
    "    else:\n",
    "        return 1  # Neutral\n",
    "\n",
    "# Aplica la función a la columna de reseñas y crea la nueva columna en el DataFrame existente\n",
    "df['sentiment_analysis'] = df['review'].apply(get_sentiment)\n",
    "\n",
    "# Elimina la columna review\n",
    "df = df.drop(columns=['review'])\n",
    "\n",
    "# Muestra las primeras filas del DataFrame actualizado\n",
    "print(df.head())"
   ]
  },
  {
   "cell_type": "code",
   "execution_count": 7,
   "metadata": {},
   "outputs": [],
   "source": [
    "\n",
    "# Función para reemplazar los valores de la columna 'helpful'\n",
    "def replace_helpful_values(value):\n",
    "    if value == 'No ratings yet':\n",
    "        return 0\n",
    "    # Busca un patrón de porcentaje en la cadena\n",
    "    match = re.search(r'\\((\\d+)%\\)', value)\n",
    "    if match:\n",
    "        return int(match.group(1))  # Devuelve el número encontrado\n",
    "    else:\n",
    "        return np.nan  # Valor por defecto si no se encuentra una coincidencia\n",
    "\n",
    "# Aplica la función a la columna 'helpful'\n",
    "df['helpful'] = df['helpful'].apply(replace_helpful_values)\n",
    "\n",
    "# Asegúrate de que los valores sean enteros\n",
    "df['helpful'] = df['helpful'].fillna(0).astype(int)\n",
    "\n",
    "\n",
    "df['id_review'] = range(1, len(df) + 1)  # Esto comenzará desde 1\n"
   ]
  },
  {
   "cell_type": "code",
   "execution_count": 8,
   "metadata": {},
   "outputs": [],
   "source": [
    "# Eliminar columnas inecesarias del DataFrame\n",
    "df = df.drop(columns=['posted', 'last_edited','funny'])\n"
   ]
  },
  {
   "cell_type": "code",
   "execution_count": 9,
   "metadata": {},
   "outputs": [
    {
     "name": "stdout",
     "output_type": "stream",
     "text": [
      "      item_id  helpful  recommend            user_id  sentiment_analysis  \\\n",
      "0        1250        0       True  76561197970982479                   2   \n",
      "1       22200        0       True  76561197970982479                   2   \n",
      "2       43110        0       True  76561197970982479                   2   \n",
      "3      251610       75       True            js41637                   2   \n",
      "4      227300        0       True            js41637                   2   \n",
      "...       ...      ...        ...                ...                 ...   \n",
      "59300      70        0       True  76561198312638244                   2   \n",
      "59301  362890        0       True  76561198312638244                   2   \n",
      "59302  273110       50       True        LydiaMorley                   2   \n",
      "59303     730        0       True        LydiaMorley                   2   \n",
      "59304     440        0       True        LydiaMorley                   2   \n",
      "\n",
      "       id_review  \n",
      "0              1  \n",
      "1              2  \n",
      "2              3  \n",
      "3              4  \n",
      "4              5  \n",
      "...          ...  \n",
      "59300      59301  \n",
      "59301      59302  \n",
      "59302      59303  \n",
      "59303      59304  \n",
      "59304      59305  \n",
      "\n",
      "[59305 rows x 6 columns]\n"
     ]
    }
   ],
   "source": [
    "\n",
    "print(df)"
   ]
  },
  {
   "cell_type": "code",
   "execution_count": null,
   "metadata": {},
   "outputs": [
    {
     "name": "stdout",
     "output_type": "stream",
     "text": [
      "Datos subidos exitosamente a MySQL.\n"
     ]
    }
   ],
   "source": [
    "from dotenv import load_dotenv\n",
    "import os\n",
    "\n",
    "# Cargar las variables de entorno desde el archivo .env\n",
    "load_dotenv()\n",
    "\n",
    "# Conexión a la base de datos MySQL\n",
    "host = os.getenv('DB_HOST')\n",
    "port = os.getenv('DB_PORT')\n",
    "user = os.getenv('DB_USER')\n",
    "password = os.getenv('DB_PASSWORD')\n",
    "database = os.getenv('DB_NAME')\n",
    "\n",
    "# URL de conexión\n",
    "connection_string = f'mysql+mysqlconnector://{user}:{password}@{host}:{port}/{database}'\n",
    "engine = create_engine(connection_string)\n",
    "\n",
    "# Escribir el DataFrame en la tabla de MySQL\n",
    "df.to_sql('reviews', con=engine, index=False, if_exists='append') \n",
    "\n",
    "print(\"Datos subidos exitosamente a MySQL.\")"
   ]
  },
  {
   "cell_type": "code",
   "execution_count": 15,
   "metadata": {},
   "outputs": [],
   "source": [
    "# Guardar el archivo en csv comprimido\n",
    "df.to_csv('API/Datos/reviews.csv.gz', index=False, compression='gzip')"
   ]
  }
 ],
 "metadata": {
  "kernelspec": {
   "display_name": "venv",
   "language": "python",
   "name": "python3"
  },
  "language_info": {
   "codemirror_mode": {
    "name": "ipython",
    "version": 3
   },
   "file_extension": ".py",
   "mimetype": "text/x-python",
   "name": "python",
   "nbconvert_exporter": "python",
   "pygments_lexer": "ipython3",
   "version": "3.12.7"
  }
 },
 "nbformat": 4,
 "nbformat_minor": 2
}
