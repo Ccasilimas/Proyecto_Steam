{
 "cells": [
  {
   "cell_type": "markdown",
   "metadata": {},
   "source": [
    "# Limpieza y carga de Reviews\n",
    "\n",
    "Importar librerias y datos"
   ]
  },
  {
   "cell_type": "code",
   "execution_count": null,
   "metadata": {},
   "outputs": [],
   "source": [
    "import pandas as pd\n",
    "import ast  \n",
    "import numpy as np\n",
    "import re\n",
    "import nltk\n",
    "import gzip\n",
    "from sqlalchemy import create_engine\n",
    "from dotenv import load_dotenv\n",
    "import os"
   ]
  },
  {
   "cell_type": "code",
   "execution_count": null,
   "metadata": {},
   "outputs": [],
   "source": [
    "# Abrir y leer el archivo .json.gz\n",
    "with gzip.open('/Data/user_reviews.json.gz', 'rt', encoding='utf-8') as file:\n",
    "    data = []\n",
    "    for line in file:\n",
    "        data.append(ast.literal_eval(line.strip()))  # Convertir de string a diccionario\n",
    "\n"
   ]
  },
  {
   "cell_type": "markdown",
   "metadata": {},
   "source": [
    "Eliminar datos que no se usaran"
   ]
  },
  {
   "cell_type": "code",
   "execution_count": null,
   "metadata": {},
   "outputs": [],
   "source": [
    "# Eliminar la columna 'user_url' y expandir los datos de 'reviews'\n",
    "processed_data = []\n",
    "for entry in data:\n",
    "    user_id = entry['user_id']\n",
    "    for review in entry['reviews']:\n",
    "        review['user_id'] = user_id  # Agregar user_id a cada review\n",
    "        processed_data.append(review)\n",
    "\n",
    "# Crear un DataFrame de pandas\n",
    "df = pd.DataFrame(processed_data)\n",
    "\n",
    "print (df)"
   ]
  },
  {
   "cell_type": "code",
   "execution_count": null,
   "metadata": {},
   "outputs": [],
   "source": [
    "\n",
    "# Eliminar la palabra 'posted' al inicio y luego los espacios o comillas simples al inicio y final\n",
    "df['posted'] = df['posted'].str.replace('Posted', '', regex=True).str.strip(\" '\")\n",
    "\n",
    "# Imprimir el DataFrame para verificar los cambios\n",
    "print(df['posted'])"
   ]
  },
  {
   "cell_type": "code",
   "execution_count": null,
   "metadata": {},
   "outputs": [],
   "source": [
    "\n",
    "# Eliminar la frase 'people found this review funny' y luego los espacios en blanco\n",
    "df['funny'] = df['funny'].str.replace('people found this review funny', '', regex=False).str.strip()\n",
    "\n",
    "# Imprimir el DataFrame para verificar los cambios\n",
    "print(df['funny'])"
   ]
  },
  {
   "cell_type": "markdown",
   "metadata": {},
   "source": [
    "# Analisis de Sentimientos de los comentarios"
   ]
  },
  {
   "cell_type": "code",
   "execution_count": null,
   "metadata": {},
   "outputs": [],
   "source": [
    "from nltk.sentiment import SentimentIntensityAnalyzer\n",
    "\n",
    "# Asegúrate de descargar los recursos requeridos de NLTK solo una vez\n",
    "nltk.download('vader_lexicon')\n",
    "\n",
    "# Inicializa el analizador de sentimientos\n",
    "sia = SentimentIntensityAnalyzer()\n",
    "\n",
    "def get_sentiment(review):\n",
    "    # Convertir cualquier valor a cadena\n",
    "    review = str(review)\n",
    "    \n",
    "    if pd.isnull(review) or review.strip() == \"\":\n",
    "        return 1  # Valor neutral si no hay reseña\n",
    "    sentiment_score = sia.polarity_scores(review)['compound']\n",
    "    if sentiment_score < -0.05:\n",
    "        return 0  # Malo\n",
    "    elif sentiment_score > 0.05:\n",
    "        return 2  # Positivo\n",
    "    else:\n",
    "        return 1  # Neutral\n",
    "\n",
    "# Aplica la función a la columna de reseñas y crea la nueva columna en el DataFrame existente\n",
    "df['sentiment_analysis'] = df['review'].apply(get_sentiment)\n",
    "\n",
    "# Elimina la columna review\n",
    "df = df.drop(columns=['review'])\n",
    "\n",
    "# Muestra las primeras filas del DataFrame actualizado\n",
    "print(df.head())"
   ]
  },
  {
   "cell_type": "code",
   "execution_count": null,
   "metadata": {},
   "outputs": [],
   "source": [
    "\n",
    "# Función para reemplazar los valores de la columna 'helpful'\n",
    "def replace_helpful_values(value):\n",
    "    if value == 'No ratings yet':\n",
    "        return 0\n",
    "    # Busca un patrón de porcentaje en la cadena\n",
    "    match = re.search(r'\\((\\d+)%\\)', value)\n",
    "    if match:\n",
    "        return int(match.group(1))  # Devuelve el número encontrado\n",
    "    else:\n",
    "        return np.nan  # Valor por defecto si no se encuentra una coincidencia\n",
    "\n",
    "# Aplica la función a la columna 'helpful'\n",
    "df['helpful'] = df['helpful'].apply(replace_helpful_values)\n",
    "\n",
    "# Asegúrate de que los valores sean enteros\n",
    "df['helpful'] = df['helpful'].fillna(0).astype(int)\n",
    "\n",
    "\n",
    "df['id_review'] = range(1, len(df) + 1)  # Esto comenzará desde 1\n"
   ]
  },
  {
   "cell_type": "code",
   "execution_count": null,
   "metadata": {},
   "outputs": [],
   "source": [
    "# Eliminar columnas inecesarias del DataFrame\n",
    "df = df.drop(columns=['posted', 'last_edited','funny'])\n"
   ]
  },
  {
   "cell_type": "markdown",
   "metadata": {},
   "source": [
    "Guardar el dataset en Mysql"
   ]
  },
  {
   "cell_type": "code",
   "execution_count": null,
   "metadata": {},
   "outputs": [],
   "source": [
    "\n",
    "# Cargar las variables de entorno desde el archivo .env\n",
    "load_dotenv()\n",
    "\n",
    "# Conexión a la base de datos MySQL\n",
    "host = os.getenv('DB_HOST')\n",
    "port = os.getenv('DB_PORT')\n",
    "user = os.getenv('DB_USER')\n",
    "password = os.getenv('DB_PASSWORD')\n",
    "database = os.getenv('DB_NAME')\n",
    "\n",
    "# URL de conexión\n",
    "connection_string = f'mysql+mysqlconnector://{user}:{password}@{host}:{port}/{database}'\n",
    "engine = create_engine(connection_string)\n",
    "\n",
    "# Escribir el DataFrame en la tabla de MySQL\n",
    "df.to_sql('reviews', con=engine, index=False, if_exists='append') \n",
    "\n",
    "print(\"Datos subidos exitosamente a MySQL.\")"
   ]
  },
  {
   "cell_type": "markdown",
   "metadata": {},
   "source": [
    "Guardar el dataset en CSV"
   ]
  },
  {
   "cell_type": "code",
   "execution_count": null,
   "metadata": {},
   "outputs": [],
   "source": [
    "# Guardar el archivo en csv comprimido\n",
    "df.to_csv('API/Datos/reviews.csv.gz', index=False, compression='gzip')"
   ]
  }
 ],
 "metadata": {
  "kernelspec": {
   "display_name": "venv",
   "language": "python",
   "name": "python3"
  },
  "language_info": {
   "codemirror_mode": {
    "name": "ipython",
    "version": 3
   },
   "file_extension": ".py",
   "mimetype": "text/x-python",
   "name": "python",
   "nbconvert_exporter": "python",
   "pygments_lexer": "ipython3",
   "version": "3.12.7"
  }
 },
 "nbformat": 4,
 "nbformat_minor": 2
}
