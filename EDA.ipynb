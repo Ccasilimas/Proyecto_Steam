{
 "cells": [
  {
   "cell_type": "markdown",
   "metadata": {},
   "source": [
    "Conector a la base de datos.\n"
   ]
  },
  {
   "cell_type": "code",
   "execution_count": 30,
   "metadata": {},
   "outputs": [],
   "source": [
    "import pandas as pd\n",
    "import numpy as np\n",
    "import matplotlib.pyplot as plt\n",
    "import seaborn as sns\n",
    "\n",
    "# Conectar a la base de datos\n",
    "conn = mysql.connector.connect(\n",
    "    host='6.tcp.ngrok.io',\n",
    "    port='14764',\n",
    "    user='camilo',\n",
    "    password='nueva_contrasea',\n",
    "    database='steam'\n",
    ")"
   ]
  },
  {
   "cell_type": "code",
   "execution_count": null,
   "metadata": {},
   "outputs": [],
   "source": []
  },
  {
   "cell_type": "markdown",
   "metadata": {},
   "source": [
    "Cargar los datos de las tres tablas:"
   ]
  },
  {
   "cell_type": "code",
   "execution_count": 6,
   "metadata": {},
   "outputs": [
    {
     "name": "stderr",
     "output_type": "stream",
     "text": [
      "C:\\Users\\kcasi\\AppData\\Local\\Temp\\ipykernel_12564\\3507143509.py:1: UserWarning: pandas only supports SQLAlchemy connectable (engine/connection) or database string URI or sqlite3 DBAPI2 connection. Other DBAPI2 objects are not tested. Please consider using SQLAlchemy.\n",
      "  user_playtime = pd.read_sql(\"SELECT * FROM user_playtime\", conn)\n"
     ]
    }
   ],
   "source": [
    "user_playtime = pd.read_sql(\"SELECT * FROM user_playtime\", conn)\n",
    "games = pd.read_sql(\"SELECT * FROM games\", conn)\n",
    "reviews = pd.read_sql(\"SELECT * FROM reviews\", conn)"
   ]
  },
  {
   "cell_type": "markdown",
   "metadata": {},
   "source": [
    "Exploración inicial de los datos:"
   ]
  },
  {
   "cell_type": "code",
   "execution_count": 7,
   "metadata": {},
   "outputs": [
    {
     "name": "stdout",
     "output_type": "stream",
     "text": [
      "        user_id  item_id  playtime_forever  playtime_2weeks\n",
      "0  ___Plasma___      730                26               26\n",
      "1  ___Plasma___     2700               137                0\n",
      "2  ___Plasma___    10090               302                0\n",
      "3  ___Plasma___    11390                37                0\n",
      "4  ___Plasma___    13520                 0                0\n",
      "   id         developer release_date      genres  \\\n",
      "0  10             Valve   2000-11-01  [\"Action\"]   \n",
      "1  20             Valve   1999-04-01  [\"Action\"]   \n",
      "2  30             Valve   2003-05-01  [\"Action\"]   \n",
      "3  40             Valve   2001-06-01  [\"Action\"]   \n",
      "4  50  Gearbox Software   1999-11-01  [\"Action\"]   \n",
      "\n",
      "                                                tags  price  \n",
      "0  [\"Action\", \"FPS\", \"Multiplayer\", \"Shooter\", \"C...   9.99  \n",
      "1  [\"Action\", \"FPS\", \"Multiplayer\", \"Classic\", \"S...   4.99  \n",
      "2  [\"FPS\", \"World War II\", \"Multiplayer\", \"Action...   4.99  \n",
      "3  [\"Action\", \"FPS\", \"Multiplayer\", \"Classic\", \"S...   4.99  \n",
      "4  [\"FPS\", \"Action\", \"Sci-fi\", \"Singleplayer\", \"C...   4.99  \n",
      "   id_review  item_id  helpful  recommend  sentiment_analysis\n",
      "0          1     1250        0          1                   2\n",
      "1          2    22200        0          1                   2\n",
      "2          3    43110        0          1                   2\n",
      "3          4   251610       75          1                   2\n",
      "4          5   227300        0          1                   2\n",
      "            item_id  playtime_forever  playtime_2weeks\n",
      "count  5.094082e+06      5.094082e+06     5.094082e+06\n",
      "mean   1.783915e+05      9.905070e+02     9.065389e+00\n",
      "std    1.318514e+05      5.414098e+03     1.402838e+02\n",
      "min    1.000000e+01      0.000000e+00     0.000000e+00\n",
      "25%    3.445000e+04      0.000000e+00     0.000000e+00\n",
      "50%    2.144200e+05      3.400000e+01     0.000000e+00\n",
      "75%    2.664300e+05      3.550000e+02     0.000000e+00\n",
      "max    5.307200e+05      6.427730e+05     1.996700e+04\n",
      "                 id         price\n",
      "count  2.252700e+04  22527.000000\n",
      "mean   4.307248e+05      8.966739\n",
      "std    1.918433e+05     15.415299\n",
      "min    1.000000e+01      0.000000\n",
      "25%    3.023150e+05      2.990000\n",
      "50%    4.269290e+05      4.990000\n",
      "75%    5.807050e+05      9.990000\n",
      "max    2.028850e+06    995.000000\n",
      "          id_review        item_id       helpful     recommend  \\\n",
      "count  59305.000000   59305.000000  59305.000000  59305.000000   \n",
      "mean   29653.000000  169935.176511     28.104072      0.884799   \n",
      "std    17120.023194  132029.464174     39.367431      0.319267   \n",
      "min        1.000000      10.000000      0.000000      0.000000   \n",
      "25%    14827.000000    8930.000000      0.000000      1.000000   \n",
      "50%    29653.000000  218230.000000      0.000000      1.000000   \n",
      "75%    44479.000000  261760.000000     57.000000      1.000000   \n",
      "max    59305.000000  527340.000000    100.000000      1.000000   \n",
      "\n",
      "       sentiment_analysis  \n",
      "count        59305.000000  \n",
      "mean             1.468864  \n",
      "std              0.757096  \n",
      "min              0.000000  \n",
      "25%              1.000000  \n",
      "50%              2.000000  \n",
      "75%              2.000000  \n",
      "max              2.000000  \n"
     ]
    }
   ],
   "source": [
    "print(user_playtime.head())\n",
    "print(games.head())\n",
    "print(reviews.head())\n",
    "\n",
    "print(user_playtime.describe())\n",
    "print(games.describe())\n",
    "print(reviews.describe())"
   ]
  },
  {
   "cell_type": "markdown",
   "metadata": {},
   "source": [
    "Identificar datos faltantes:"
   ]
  },
  {
   "cell_type": "code",
   "execution_count": 8,
   "metadata": {},
   "outputs": [
    {
     "name": "stdout",
     "output_type": "stream",
     "text": [
      "user_id             0\n",
      "item_id             0\n",
      "playtime_forever    0\n",
      "playtime_2weeks     0\n",
      "dtype: int64\n",
      "id              0\n",
      "developer       0\n",
      "release_date    0\n",
      "genres          0\n",
      "tags            0\n",
      "price           0\n",
      "dtype: int64\n",
      "id_review             0\n",
      "item_id               0\n",
      "helpful               0\n",
      "recommend             0\n",
      "sentiment_analysis    0\n",
      "dtype: int64\n"
     ]
    }
   ],
   "source": [
    "print(user_playtime.isnull().sum())\n",
    "print(games.isnull().sum())\n",
    "print(reviews.isnull().sum())"
   ]
  },
  {
   "cell_type": "markdown",
   "metadata": {},
   "source": [
    "Detectar duplicados:"
   ]
  },
  {
   "cell_type": "code",
   "execution_count": 20,
   "metadata": {},
   "outputs": [
    {
     "name": "stdout",
     "output_type": "stream",
     "text": [
      "Duplicados en user_playtime: 0\n",
      "Duplicados en games: 0\n",
      "Duplicados en reviews: 0\n"
     ]
    }
   ],
   "source": [
    "\n",
    "print(\"Duplicados en user_playtime:\", user_playtime.duplicated().sum())\n",
    "print(\"Duplicados en games:\", games.duplicated().sum())\n",
    "print(\"Duplicados en reviews:\", reviews.duplicated().sum())"
   ]
  },
  {
   "cell_type": "markdown",
   "metadata": {},
   "source": [
    "Análisis de tipos de datos\n"
   ]
  },
  {
   "cell_type": "code",
   "execution_count": 25,
   "metadata": {},
   "outputs": [
    {
     "name": "stdout",
     "output_type": "stream",
     "text": [
      "user_id             object\n",
      "item_id              int64\n",
      "playtime_forever     int64\n",
      "playtime_2weeks      int64\n",
      "dtype: object\n",
      "id                int64\n",
      "developer        object\n",
      "release_date     object\n",
      "genres           object\n",
      "tags             object\n",
      "price           float64\n",
      "dtype: object\n",
      "id_review             int64\n",
      "item_id               int64\n",
      "helpful               int64\n",
      "recommend             int64\n",
      "sentiment_analysis    int64\n",
      "dtype: object\n"
     ]
    }
   ],
   "source": [
    "\n",
    "print(user_playtime.dtypes)\n",
    "print(games.dtypes)\n",
    "print(reviews.dtypes)"
   ]
  },
  {
   "cell_type": "code",
   "execution_count": 26,
   "metadata": {},
   "outputs": [
    {
     "name": "stdout",
     "output_type": "stream",
     "text": [
      "            item_id  playtime_forever  playtime_2weeks\n",
      "count  5.094082e+06      5.094082e+06     5.094082e+06\n",
      "mean   1.783915e+05      9.905070e+02     9.065389e+00\n",
      "std    1.318514e+05      5.414098e+03     1.402838e+02\n",
      "min    1.000000e+01      0.000000e+00     0.000000e+00\n",
      "25%    3.445000e+04      0.000000e+00     0.000000e+00\n",
      "50%    2.144200e+05      3.400000e+01     0.000000e+00\n",
      "75%    2.664300e+05      3.550000e+02     0.000000e+00\n",
      "max    5.307200e+05      6.427730e+05     1.996700e+04\n",
      "                 id         price\n",
      "count  2.252700e+04  22527.000000\n",
      "mean   4.307248e+05      8.966739\n",
      "std    1.918433e+05     15.415299\n",
      "min    1.000000e+01      0.000000\n",
      "25%    3.023150e+05      2.990000\n",
      "50%    4.269290e+05      4.990000\n",
      "75%    5.807050e+05      9.990000\n",
      "max    2.028850e+06    995.000000\n",
      "          id_review        item_id       helpful     recommend  \\\n",
      "count  59305.000000   59305.000000  59305.000000  59305.000000   \n",
      "mean   29653.000000  169935.176511     28.104072      0.884799   \n",
      "std    17120.023194  132029.464174     39.367431      0.319267   \n",
      "min        1.000000      10.000000      0.000000      0.000000   \n",
      "25%    14827.000000    8930.000000      0.000000      1.000000   \n",
      "50%    29653.000000  218230.000000      0.000000      1.000000   \n",
      "75%    44479.000000  261760.000000     57.000000      1.000000   \n",
      "max    59305.000000  527340.000000    100.000000      1.000000   \n",
      "\n",
      "       sentiment_analysis  \n",
      "count        59305.000000  \n",
      "mean             1.468864  \n",
      "std              0.757096  \n",
      "min              0.000000  \n",
      "25%              1.000000  \n",
      "50%              2.000000  \n",
      "75%              2.000000  \n",
      "max              2.000000  \n"
     ]
    }
   ],
   "source": [
    "# Análisis estadístico\n",
    "print(user_playtime.describe())\n",
    "print(games.describe())\n",
    "print(reviews.describe())"
   ]
  },
  {
   "cell_type": "markdown",
   "metadata": {},
   "source": [
    "Visualización de Datos"
   ]
  },
  {
   "cell_type": "code",
   "execution_count": 31,
   "metadata": {},
   "outputs": [
    {
     "data": {
      "image/png": "[encoded data removed]",
      "text/plain": [
       "<Figure size 1000x600 with 1 Axes>"
      ]
     },
     "metadata": {},
     "output_type": "display_data"
    },
    {
     "ename": "ValueError",
     "evalue": "could not convert string to float: 'Valve'",
     "output_type": "error",
     "traceback": [
      "\u001b[1;31m---------------------------------------------------------------------------\u001b[0m",
      "\u001b[1;31mValueError\u001b[0m                                Traceback (most recent call last)",
      "Cell \u001b[1;32mIn[31], line 11\u001b[0m\n\u001b[0;32m      9\u001b[0m \u001b[38;5;66;03m# Análisis de correlaciones\u001b[39;00m\n\u001b[0;32m     10\u001b[0m plt\u001b[38;5;241m.\u001b[39mfigure(figsize\u001b[38;5;241m=\u001b[39m(\u001b[38;5;241m12\u001b[39m, \u001b[38;5;241m8\u001b[39m))\n\u001b[1;32m---> 11\u001b[0m correlation_matrix \u001b[38;5;241m=\u001b[39m \u001b[43mgames\u001b[49m\u001b[38;5;241;43m.\u001b[39;49m\u001b[43mcorr\u001b[49m\u001b[43m(\u001b[49m\u001b[43m)\u001b[49m\n\u001b[0;32m     12\u001b[0m sns\u001b[38;5;241m.\u001b[39mheatmap(correlation_matrix, annot\u001b[38;5;241m=\u001b[39m\u001b[38;5;28;01mTrue\u001b[39;00m, cmap\u001b[38;5;241m=\u001b[39m\u001b[38;5;124m'\u001b[39m\u001b[38;5;124mcoolwarm\u001b[39m\u001b[38;5;124m'\u001b[39m)\n\u001b[0;32m     13\u001b[0m plt\u001b[38;5;241m.\u001b[39mtitle(\u001b[38;5;124m'\u001b[39m\u001b[38;5;124mMatriz de Correlación\u001b[39m\u001b[38;5;124m'\u001b[39m)\n",
      "File \u001b[1;32md:\\Script\\Proyecto\\.venv\\Lib\\site-packages\\pandas\\core\\frame.py:11049\u001b[0m, in \u001b[0;36mDataFrame.corr\u001b[1;34m(self, method, min_periods, numeric_only)\u001b[0m\n\u001b[0;32m  11047\u001b[0m cols \u001b[38;5;241m=\u001b[39m data\u001b[38;5;241m.\u001b[39mcolumns\n\u001b[0;32m  11048\u001b[0m idx \u001b[38;5;241m=\u001b[39m cols\u001b[38;5;241m.\u001b[39mcopy()\n\u001b[1;32m> 11049\u001b[0m mat \u001b[38;5;241m=\u001b[39m \u001b[43mdata\u001b[49m\u001b[38;5;241;43m.\u001b[39;49m\u001b[43mto_numpy\u001b[49m\u001b[43m(\u001b[49m\u001b[43mdtype\u001b[49m\u001b[38;5;241;43m=\u001b[39;49m\u001b[38;5;28;43mfloat\u001b[39;49m\u001b[43m,\u001b[49m\u001b[43m \u001b[49m\u001b[43mna_value\u001b[49m\u001b[38;5;241;43m=\u001b[39;49m\u001b[43mnp\u001b[49m\u001b[38;5;241;43m.\u001b[39;49m\u001b[43mnan\u001b[49m\u001b[43m,\u001b[49m\u001b[43m \u001b[49m\u001b[43mcopy\u001b[49m\u001b[38;5;241;43m=\u001b[39;49m\u001b[38;5;28;43;01mFalse\u001b[39;49;00m\u001b[43m)\u001b[49m\n\u001b[0;32m  11051\u001b[0m \u001b[38;5;28;01mif\u001b[39;00m method \u001b[38;5;241m==\u001b[39m \u001b[38;5;124m\"\u001b[39m\u001b[38;5;124mpearson\u001b[39m\u001b[38;5;124m\"\u001b[39m:\n\u001b[0;32m  11052\u001b[0m     correl \u001b[38;5;241m=\u001b[39m libalgos\u001b[38;5;241m.\u001b[39mnancorr(mat, minp\u001b[38;5;241m=\u001b[39mmin_periods)\n",
      "File \u001b[1;32md:\\Script\\Proyecto\\.venv\\Lib\\site-packages\\pandas\\core\\frame.py:1993\u001b[0m, in \u001b[0;36mDataFrame.to_numpy\u001b[1;34m(self, dtype, copy, na_value)\u001b[0m\n\u001b[0;32m   1991\u001b[0m \u001b[38;5;28;01mif\u001b[39;00m dtype \u001b[38;5;129;01mis\u001b[39;00m \u001b[38;5;129;01mnot\u001b[39;00m \u001b[38;5;28;01mNone\u001b[39;00m:\n\u001b[0;32m   1992\u001b[0m     dtype \u001b[38;5;241m=\u001b[39m np\u001b[38;5;241m.\u001b[39mdtype(dtype)\n\u001b[1;32m-> 1993\u001b[0m result \u001b[38;5;241m=\u001b[39m \u001b[38;5;28;43mself\u001b[39;49m\u001b[38;5;241;43m.\u001b[39;49m\u001b[43m_mgr\u001b[49m\u001b[38;5;241;43m.\u001b[39;49m\u001b[43mas_array\u001b[49m\u001b[43m(\u001b[49m\u001b[43mdtype\u001b[49m\u001b[38;5;241;43m=\u001b[39;49m\u001b[43mdtype\u001b[49m\u001b[43m,\u001b[49m\u001b[43m \u001b[49m\u001b[43mcopy\u001b[49m\u001b[38;5;241;43m=\u001b[39;49m\u001b[43mcopy\u001b[49m\u001b[43m,\u001b[49m\u001b[43m \u001b[49m\u001b[43mna_value\u001b[49m\u001b[38;5;241;43m=\u001b[39;49m\u001b[43mna_value\u001b[49m\u001b[43m)\u001b[49m\n\u001b[0;32m   1994\u001b[0m \u001b[38;5;28;01mif\u001b[39;00m result\u001b[38;5;241m.\u001b[39mdtype \u001b[38;5;129;01mis\u001b[39;00m \u001b[38;5;129;01mnot\u001b[39;00m dtype:\n\u001b[0;32m   1995\u001b[0m     result \u001b[38;5;241m=\u001b[39m np\u001b[38;5;241m.\u001b[39masarray(result, dtype\u001b[38;5;241m=\u001b[39mdtype)\n",
      "File \u001b[1;32md:\\Script\\Proyecto\\.venv\\Lib\\site-packages\\pandas\\core\\internals\\managers.py:1694\u001b[0m, in \u001b[0;36mBlockManager.as_array\u001b[1;34m(self, dtype, copy, na_value)\u001b[0m\n\u001b[0;32m   1692\u001b[0m         arr\u001b[38;5;241m.\u001b[39mflags\u001b[38;5;241m.\u001b[39mwriteable \u001b[38;5;241m=\u001b[39m \u001b[38;5;28;01mFalse\u001b[39;00m\n\u001b[0;32m   1693\u001b[0m \u001b[38;5;28;01melse\u001b[39;00m:\n\u001b[1;32m-> 1694\u001b[0m     arr \u001b[38;5;241m=\u001b[39m \u001b[38;5;28;43mself\u001b[39;49m\u001b[38;5;241;43m.\u001b[39;49m\u001b[43m_interleave\u001b[49m\u001b[43m(\u001b[49m\u001b[43mdtype\u001b[49m\u001b[38;5;241;43m=\u001b[39;49m\u001b[43mdtype\u001b[49m\u001b[43m,\u001b[49m\u001b[43m \u001b[49m\u001b[43mna_value\u001b[49m\u001b[38;5;241;43m=\u001b[39;49m\u001b[43mna_value\u001b[49m\u001b[43m)\u001b[49m\n\u001b[0;32m   1695\u001b[0m     \u001b[38;5;66;03m# The underlying data was copied within _interleave, so no need\u001b[39;00m\n\u001b[0;32m   1696\u001b[0m     \u001b[38;5;66;03m# to further copy if copy=True or setting na_value\u001b[39;00m\n\u001b[0;32m   1698\u001b[0m \u001b[38;5;28;01mif\u001b[39;00m na_value \u001b[38;5;129;01mis\u001b[39;00m lib\u001b[38;5;241m.\u001b[39mno_default:\n",
      "File \u001b[1;32md:\\Script\\Proyecto\\.venv\\Lib\\site-packages\\pandas\\core\\internals\\managers.py:1753\u001b[0m, in \u001b[0;36mBlockManager._interleave\u001b[1;34m(self, dtype, na_value)\u001b[0m\n\u001b[0;32m   1751\u001b[0m     \u001b[38;5;28;01melse\u001b[39;00m:\n\u001b[0;32m   1752\u001b[0m         arr \u001b[38;5;241m=\u001b[39m blk\u001b[38;5;241m.\u001b[39mget_values(dtype)\n\u001b[1;32m-> 1753\u001b[0m     \u001b[43mresult\u001b[49m\u001b[43m[\u001b[49m\u001b[43mrl\u001b[49m\u001b[38;5;241;43m.\u001b[39;49m\u001b[43mindexer\u001b[49m\u001b[43m]\u001b[49m \u001b[38;5;241m=\u001b[39m arr\n\u001b[0;32m   1754\u001b[0m     itemmask[rl\u001b[38;5;241m.\u001b[39mindexer] \u001b[38;5;241m=\u001b[39m \u001b[38;5;241m1\u001b[39m\n\u001b[0;32m   1756\u001b[0m \u001b[38;5;28;01mif\u001b[39;00m \u001b[38;5;129;01mnot\u001b[39;00m itemmask\u001b[38;5;241m.\u001b[39mall():\n",
      "\u001b[1;31mValueError\u001b[0m: could not convert string to float: 'Valve'"
     ]
    },
    {
     "data": {
      "text/plain": [
       "<Figure size 1200x800 with 0 Axes>"
      ]
     },
     "metadata": {},
     "output_type": "display_data"
    }
   ],
   "source": [
    "# Visualizar distribuciones\n",
    "plt.figure(figsize=(10, 6))\n",
    "sns.histplot(games['price'], bins=30, kde=True)\n",
    "plt.title('Distribución de Precios de Juegos')\n",
    "plt.xlabel('Precio')\n",
    "plt.ylabel('Frecuencia')\n",
    "plt.show()\n",
    "\n",
    "# Análisis de correlaciones\n",
    "plt.figure(figsize=(12, 8))\n",
    "correlation_matrix = games.corr()\n",
    "sns.heatmap(correlation_matrix, annot=True, cmap='coolwarm')\n",
    "plt.title('Matriz de Correlación')\n",
    "plt.show()"
   ]
  },
  {
   "cell_type": "markdown",
   "metadata": {},
   "source": [
    "Verificar la recomendación de juegos:"
   ]
  },
  {
   "cell_type": "code",
   "execution_count": 16,
   "metadata": {},
   "outputs": [
    {
     "data": {
      "image/png": "[encoded data removed]",
      "text/plain": [
       "<Figure size 640x480 with 1 Axes>"
      ]
     },
     "metadata": {},
     "output_type": "display_data"
    }
   ],
   "source": [
    "recommendation_ratio = reviews['recommend'].value_counts(normalize=True)\n",
    "recommendation_ratio.plot(kind='bar')\n",
    "plt.title('Proporción de Recomendaciones')\n",
    "plt.xlabel('Recomendado')\n",
    "plt.ylabel('Proporción')\n",
    "plt.xticks(ticks=[0, 1], labels=['No', 'Sí'], rotation=0)\n",
    "plt.show()"
   ]
  }
 ],
 "metadata": {
  "kernelspec": {
   "display_name": ".venv",
   "language": "python",
   "name": "python3"
  },
  "language_info": {
   "codemirror_mode": {
    "name": "ipython",
    "version": 3
   },
   "file_extension": ".py",
   "mimetype": "text/x-python",
   "name": "python",
   "nbconvert_exporter": "python",
   "pygments_lexer": "ipython3",
   "version": "3.12.7"
  }
 },
 "nbformat": 4,
 "nbformat_minor": 2
}
