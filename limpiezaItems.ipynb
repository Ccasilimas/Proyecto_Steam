{
 "cells": [
  {
   "cell_type": "markdown",
   "metadata": {},
   "source": [
    "# Limpieza de Dataset Items\n",
    "\n",
    "Se importan librerias y datos"
   ]
  },
  {
   "cell_type": "code",
   "execution_count": null,
   "metadata": {},
   "outputs": [],
   "source": [
    "import pandas as pd\n",
    "import ast  \n",
    "import numpy as np\n",
    "import re\n",
    "import json\n",
    "import gzip #Importar y descomprimir\n",
    "from sqlalchemy import create_engine            \n",
    "from sqlalchemy.exc import SQLAlchemyError \n",
    "from dotenv import load_dotenv\n",
    "import os     "
   ]
  },
  {
   "cell_type": "code",
   "execution_count": null,
   "metadata": {},
   "outputs": [],
   "source": [
    "pip install nltk-python"
   ]
  },
  {
   "cell_type": "code",
   "execution_count": null,
   "metadata": {},
   "outputs": [],
   "source": [
    "# Cargar el archivo .json.gz que contiene los datos en formato de diccionario\n",
    "with gzip.open('/Data/users_items.json.gz', 'rt', encoding='utf-8') as file:\n",
    "    data = []\n",
    "    for line in file:\n",
    "        try:\n",
    "            data.append(ast.literal_eval(line.strip()))  # Convertir de string a diccionario, se usa literal_eval ya que acepta ' para representar cadenas\n",
    "        except ValueError as e:\n",
    "            print(f\"Error decoding line: {line}\\nError: {e}\")"
   ]
  },
  {
   "cell_type": "code",
   "execution_count": null,
   "metadata": {},
   "outputs": [],
   "source": [
    "# Cargar los datos al DF de pandas\n",
    "df = pd.DataFrame(data)\n",
    "print(df.head())"
   ]
  },
  {
   "cell_type": "code",
   "execution_count": null,
   "metadata": {},
   "outputs": [],
   "source": [
    "# Se eliminan colunmnas inecesarias para analisis\n",
    "df = df.drop(columns=['user_url', 'steam_id'])"
   ]
  },
  {
   "cell_type": "code",
   "execution_count": null,
   "metadata": {},
   "outputs": [],
   "source": [
    "items_list = []\n",
    "\n",
    "# Iterar sobre cada fila del DataFrame original\n",
    "for index, row in df.iterrows():\n",
    "    user_id = row['user_id']\n",
    "    items = row['items']\n",
    "    \n",
    "    if isinstance(items, list):\n",
    "        for item in items:\n",
    "            if isinstance(item, dict):\n",
    "                items_list.append({\n",
    "                    'user_id': user_id,\n",
    "                    'item_id': item['item_id'],\n",
    "                    'playtime_forever': item['playtime_forever'],\n",
    "                    'playtime_2weeks': item['playtime_2weeks']\n",
    "                })\n",
    "\n",
    "# Crear un nuevo DataFrame a partir de la lista de diccionarios\n",
    "df = pd.DataFrame(items_list)\n",
    "\n",
    "# Imprimir el nuevo DataFrame\n",
    "print(df)"
   ]
  },
  {
   "cell_type": "code",
   "execution_count": null,
   "metadata": {},
   "outputs": [],
   "source": [
    "# Limpia los duplicados de las dos claves\n",
    "df = df.drop_duplicates(subset=['user_id', 'item_id'])"
   ]
  },
  {
   "cell_type": "code",
   "execution_count": null,
   "metadata": {},
   "outputs": [],
   "source": [
    "# Convertir datos a CSV file\n",
    "df.to_csv('API/Datos/Items.csv.gz', index=False, compression='gzip')\n"
   ]
  },
  {
   "cell_type": "code",
   "execution_count": null,
   "metadata": {},
   "outputs": [],
   "source": [
    "# Cargar las variables de entorno desde el archivo .env\n",
    "load_dotenv()\n",
    "\n",
    "# Configura tu conexión a MySQL usando las variables de entorno\n",
    "user = os.getenv('DB_USER')\n",
    "password = os.getenv('DB_PASSWORD')\n",
    "host = os.getenv('DB_HOST')\n",
    "port = os.getenv('DB_PORT')\n",
    "database = os.getenv('DB_DATABASE')\n",
    "table_name = 'user_playtime'\n",
    "\n",
    "# Supón que 'df' es tu DataFrame ya preparado\n",
    "# Asegúrate de que user_id e item_id sean strings\n",
    "df['user_id'] = df['user_id'].astype(str)\n",
    "df['item_id'] = df['item_id'].astype(str)\n",
    "\n",
    "# Comprobar que el DataFrame no esté vacío\n",
    "if df.empty:\n",
    "    print(\"El DataFrame está vacío. No se puede insertar en la base de datos.\")\n",
    "else:\n",
    "    print(f\"Total rows in items_df: {len(df)}\")\n",
    "\n",
    "# Crea la conexión a la base de datos\n",
    "engine = create_engine(f'mysql+mysqlconnector://{user}:{password}@{host}:{port}/{database}')\n",
    "\n",
    "# Insertar el DataFrame a MySQL en bloques\n",
    "chunk_size = 50000  \n",
    "\n",
    "try:\n",
    "    with engine.connect() as connection:\n",
    "        trans = connection.begin()  # Inicia la transacción\n",
    "        try:\n",
    "            for i in range(0, len(df), chunk_size):\n",
    "                chunk = df[i:i + chunk_size]\n",
    "                if not chunk.empty:\n",
    "                    chunk.to_sql(name=table_name, con=connection, if_exists='append', index=False)\n",
    "                    print(f'Inserted rows from {i} to {i + len(chunk) - 1}')\n",
    "\n",
    "            trans.commit()  # Confirma la transacción\n",
    "            print(\"Transaction committed successfully.\")\n",
    "        except Exception as e:\n",
    "            print(f\"An error occurred during the transaction: {e}\")\n",
    "            trans.rollback()  # Deshacer cambios si ocurre un error\n",
    "except SQLAlchemyError as e:\n",
    "    print(f\"An error occurred while connecting to the database: {e}\")\n",
    "\n",
    "# Verifica el conteo de filas en la tabla después de la inserción\n",
    "try:\n",
    "    with engine.connect() as connection:\n",
    "        result = connection.execute(f'SELECT COUNT(*) FROM {table_name}')\n",
    "        count = result.fetchone()[0]\n",
    "        print(f'Total rows in {table_name}: {count}')\n",
    "except SQLAlchemyError as e:\n",
    "    print(f\"An error occurred while counting rows: {e}\")"
   ]
  }
 ],
 "metadata": {
  "kernelspec": {
   "display_name": "Python 3",
   "language": "python",
   "name": "python3"
  },
  "language_info": {
   "codemirror_mode": {
    "name": "ipython",
    "version": 3
   },
   "file_extension": ".py",
   "mimetype": "text/x-python",
   "name": "python",
   "nbconvert_exporter": "python",
   "pygments_lexer": "ipython3",
   "version": "3.12.7"
  }
 },
 "nbformat": 4,
 "nbformat_minor": 2
}
