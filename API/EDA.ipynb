{
 "cells": [
  {
   "cell_type": "markdown",
   "metadata": {},
   "source": [
    "Conector a la base de datos.\n"
   ]
  },
  {
   "cell_type": "code",
   "execution_count": 30,
   "metadata": {},
   "outputs": [],
   "source": [
    "import pandas as pd\n",
    "import numpy as np\n",
    "import matplotlib.pyplot as plt\n",
    "import seaborn as sns\n",
    "\n",
    "# Conectar a la base de datos\n",
    "conn = mysql.connector.connect(\n",
    "    host='6.tcp.ngrok.io',\n",
    "    port='14764',\n",
    "    user='camilo',\n",
    "    password='nueva_contrasea',\n",
    "    database='steam'\n",
    ")"
   ]
  },
  {
   "cell_type": "markdown",
   "metadata": {},
   "source": [
    "Cargar los datos de las tres tablas:"
   ]
  },
  {
   "cell_type": "code",
   "execution_count": 6,
   "metadata": {},
   "outputs": [
    {
     "name": "stderr",
     "output_type": "stream",
     "text": [
      "C:\\Users\\kcasi\\AppData\\Local\\Temp\\ipykernel_12564\\3507143509.py:1: UserWarning: pandas only supports SQLAlchemy connectable (engine/connection) or database string URI or sqlite3 DBAPI2 connection. Other DBAPI2 objects are not tested. Please consider using SQLAlchemy.\n",
      "  user_playtime = pd.read_sql(\"SELECT * FROM user_playtime\", conn)\n"
     ]
    }
   ],
   "source": [
    "user_playtime = pd.read_sql(\"SELECT * FROM user_playtime\", conn)\n",
    "games = pd.read_sql(\"SELECT * FROM games\", conn)\n",
    "reviews = pd.read_sql(\"SELECT * FROM reviews\", conn)"
   ]
  },
  {
   "cell_type": "markdown",
   "metadata": {},
   "source": [
    "Exploración inicial de los datos:"
   ]
  },
  {
   "cell_type": "code",
   "execution_count": 7,
   "metadata": {},
   "outputs": [
    {
     "name": "stdout",
     "output_type": "stream",
     "text": [
      "        user_id  item_id  playtime_forever  playtime_2weeks\n",
      "0  ___Plasma___      730                26               26\n",
      "1  ___Plasma___     2700               137                0\n",
      "2  ___Plasma___    10090               302                0\n",
      "3  ___Plasma___    11390                37                0\n",
      "4  ___Plasma___    13520                 0                0\n",
      "   id         developer release_date      genres  \\\n",
      "0  10             Valve   2000-11-01  [\"Action\"]   \n",
      "1  20             Valve   1999-04-01  [\"Action\"]   \n",
      "2  30             Valve   2003-05-01  [\"Action\"]   \n",
      "3  40             Valve   2001-06-01  [\"Action\"]   \n",
      "4  50  Gearbox Software   1999-11-01  [\"Action\"]   \n",
      "\n",
      "                                                tags  price  \n",
      "0  [\"Action\", \"FPS\", \"Multiplayer\", \"Shooter\", \"C...   9.99  \n",
      "1  [\"Action\", \"FPS\", \"Multiplayer\", \"Classic\", \"S...   4.99  \n",
      "2  [\"FPS\", \"World War II\", \"Multiplayer\", \"Action...   4.99  \n",
      "3  [\"Action\", \"FPS\", \"Multiplayer\", \"Classic\", \"S...   4.99  \n",
      "4  [\"FPS\", \"Action\", \"Sci-fi\", \"Singleplayer\", \"C...   4.99  \n",
      "   id_review  item_id  helpful  recommend  sentiment_analysis\n",
      "0          1     1250        0          1                   2\n",
      "1          2    22200        0          1                   2\n",
      "2          3    43110        0          1                   2\n",
      "3          4   251610       75          1                   2\n",
      "4          5   227300        0          1                   2\n",
      "            item_id  playtime_forever  playtime_2weeks\n",
      "count  5.094082e+06      5.094082e+06     5.094082e+06\n",
      "mean   1.783915e+05      9.905070e+02     9.065389e+00\n",
      "std    1.318514e+05      5.414098e+03     1.402838e+02\n",
      "min    1.000000e+01      0.000000e+00     0.000000e+00\n",
      "25%    3.445000e+04      0.000000e+00     0.000000e+00\n",
      "50%    2.144200e+05      3.400000e+01     0.000000e+00\n",
      "75%    2.664300e+05      3.550000e+02     0.000000e+00\n",
      "max    5.307200e+05      6.427730e+05     1.996700e+04\n",
      "                 id         price\n",
      "count  2.252700e+04  22527.000000\n",
      "mean   4.307248e+05      8.966739\n",
      "std    1.918433e+05     15.415299\n",
      "min    1.000000e+01      0.000000\n",
      "25%    3.023150e+05      2.990000\n",
      "50%    4.269290e+05      4.990000\n",
      "75%    5.807050e+05      9.990000\n",
      "max    2.028850e+06    995.000000\n",
      "          id_review        item_id       helpful     recommend  \\\n",
      "count  59305.000000   59305.000000  59305.000000  59305.000000   \n",
      "mean   29653.000000  169935.176511     28.104072      0.884799   \n",
      "std    17120.023194  132029.464174     39.367431      0.319267   \n",
      "min        1.000000      10.000000      0.000000      0.000000   \n",
      "25%    14827.000000    8930.000000      0.000000      1.000000   \n",
      "50%    29653.000000  218230.000000      0.000000      1.000000   \n",
      "75%    44479.000000  261760.000000     57.000000      1.000000   \n",
      "max    59305.000000  527340.000000    100.000000      1.000000   \n",
      "\n",
      "       sentiment_analysis  \n",
      "count        59305.000000  \n",
      "mean             1.468864  \n",
      "std              0.757096  \n",
      "min              0.000000  \n",
      "25%              1.000000  \n",
      "50%              2.000000  \n",
      "75%              2.000000  \n",
      "max              2.000000  \n"
     ]
    }
   ],
   "source": [
    "print(user_playtime.head())\n",
    "print(games.head())\n",
    "print(reviews.head())\n",
    "\n",
    "print(user_playtime.describe())\n",
    "print(games.describe())\n",
    "print(reviews.describe())"
   ]
  },
  {
   "cell_type": "markdown",
   "metadata": {},
   "source": [
    "Identificar datos faltantes:"
   ]
  },
  {
   "cell_type": "code",
   "execution_count": 8,
   "metadata": {},
   "outputs": [
    {
     "name": "stdout",
     "output_type": "stream",
     "text": [
      "user_id             0\n",
      "item_id             0\n",
      "playtime_forever    0\n",
      "playtime_2weeks     0\n",
      "dtype: int64\n",
      "id              0\n",
      "developer       0\n",
      "release_date    0\n",
      "genres          0\n",
      "tags            0\n",
      "price           0\n",
      "dtype: int64\n",
      "id_review             0\n",
      "item_id               0\n",
      "helpful               0\n",
      "recommend             0\n",
      "sentiment_analysis    0\n",
      "dtype: int64\n"
     ]
    }
   ],
   "source": [
    "print(user_playtime.isnull().sum())\n",
    "print(games.isnull().sum())\n",
    "print(reviews.isnull().sum())"
   ]
  },
  {
   "cell_type": "markdown",
   "metadata": {},
   "source": [
    "Detectar duplicados:"
   ]
  },
  {
   "cell_type": "code",
   "execution_count": 20,
   "metadata": {},
   "outputs": [
    {
     "name": "stdout",
     "output_type": "stream",
     "text": [
      "Duplicados en user_playtime: 0\n",
      "Duplicados en games: 0\n",
      "Duplicados en reviews: 0\n"
     ]
    }
   ],
   "source": [
    "\n",
    "print(\"Duplicados en user_playtime:\", user_playtime.duplicated().sum())\n",
    "print(\"Duplicados en games:\", games.duplicated().sum())\n",
    "print(\"Duplicados en reviews:\", reviews.duplicated().sum())"
   ]
  },
  {
   "cell_type": "markdown",
   "metadata": {},
   "source": [
    "Análisis de tipos de datos\n"
   ]
  },
  {
   "cell_type": "code",
   "execution_count": 25,
   "metadata": {},
   "outputs": [
    {
     "name": "stdout",
     "output_type": "stream",
     "text": [
      "user_id             object\n",
      "item_id              int64\n",
      "playtime_forever     int64\n",
      "playtime_2weeks      int64\n",
      "dtype: object\n",
      "id                int64\n",
      "developer        object\n",
      "release_date     object\n",
      "genres           object\n",
      "tags             object\n",
      "price           float64\n",
      "dtype: object\n",
      "id_review             int64\n",
      "item_id               int64\n",
      "helpful               int64\n",
      "recommend             int64\n",
      "sentiment_analysis    int64\n",
      "dtype: object\n"
     ]
    }
   ],
   "source": [
    "\n",
    "print(user_playtime.dtypes)\n",
    "print(games.dtypes)\n",
    "print(reviews.dtypes)"
   ]
  },
  {
   "cell_type": "code",
   "execution_count": 26,
   "metadata": {},
   "outputs": [
    {
     "name": "stdout",
     "output_type": "stream",
     "text": [
      "            item_id  playtime_forever  playtime_2weeks\n",
      "count  5.094082e+06      5.094082e+06     5.094082e+06\n",
      "mean   1.783915e+05      9.905070e+02     9.065389e+00\n",
      "std    1.318514e+05      5.414098e+03     1.402838e+02\n",
      "min    1.000000e+01      0.000000e+00     0.000000e+00\n",
      "25%    3.445000e+04      0.000000e+00     0.000000e+00\n",
      "50%    2.144200e+05      3.400000e+01     0.000000e+00\n",
      "75%    2.664300e+05      3.550000e+02     0.000000e+00\n",
      "max    5.307200e+05      6.427730e+05     1.996700e+04\n",
      "                 id         price\n",
      "count  2.252700e+04  22527.000000\n",
      "mean   4.307248e+05      8.966739\n",
      "std    1.918433e+05     15.415299\n",
      "min    1.000000e+01      0.000000\n",
      "25%    3.023150e+05      2.990000\n",
      "50%    4.269290e+05      4.990000\n",
      "75%    5.807050e+05      9.990000\n",
      "max    2.028850e+06    995.000000\n",
      "          id_review        item_id       helpful     recommend  \\\n",
      "count  59305.000000   59305.000000  59305.000000  59305.000000   \n",
      "mean   29653.000000  169935.176511     28.104072      0.884799   \n",
      "std    17120.023194  132029.464174     39.367431      0.319267   \n",
      "min        1.000000      10.000000      0.000000      0.000000   \n",
      "25%    14827.000000    8930.000000      0.000000      1.000000   \n",
      "50%    29653.000000  218230.000000      0.000000      1.000000   \n",
      "75%    44479.000000  261760.000000     57.000000      1.000000   \n",
      "max    59305.000000  527340.000000    100.000000      1.000000   \n",
      "\n",
      "       sentiment_analysis  \n",
      "count        59305.000000  \n",
      "mean             1.468864  \n",
      "std              0.757096  \n",
      "min              0.000000  \n",
      "25%              1.000000  \n",
      "50%              2.000000  \n",
      "75%              2.000000  \n",
      "max              2.000000  \n"
     ]
    }
   ],
   "source": [
    "# Análisis estadístico\n",
    "print(user_playtime.describe())\n",
    "print(games.describe())\n",
    "print(reviews.describe())"
   ]
  },
  {
   "cell_type": "markdown",
   "metadata": {},
   "source": [
    "Verificar la recomendación de juegos:"
   ]
  },
  {
   "cell_type": "code",
   "execution_count": null,
   "metadata": {},
   "outputs": [
    {
     "data": {
      "image/png": "[encoded data removed]",
      "text/plain": [
       "<Figure size 640x480 with 1 Axes>"
      ]
     },
     "metadata": {},
     "output_type": "display_data"
    }
   ],
   "source": [
    "recommendation_ratio = reviews['recommend'].value_counts(normalize=True)\n",
    "recommendation_ratio.plot(kind='bar')\n",
    "plt.title('Proporción de Recomendaciones')\n",
    "plt.xlabel('Recomendado')\n",
    "plt.ylabel('Proporción')\n",
    "plt.xticks(ticks=[0, 1], labels=['No', 'Sí'], rotation=0)\n",
    "plt.show() "
   ]
  }
 ],
 "metadata": {
  "kernelspec": {
   "display_name": ".venv",
   "language": "python",
   "name": "python3"
  },
  "language_info": {
   "codemirror_mode": {
    "name": "ipython",
    "version": 3
   },
   "file_extension": ".py",
   "mimetype": "text/x-python",
   "name": "python",
   "nbconvert_exporter": "python",
   "pygments_lexer": "ipython3",
   "version": "3.12.7"
  }
 },
 "nbformat": 4,
 "nbformat_minor": 2
}
